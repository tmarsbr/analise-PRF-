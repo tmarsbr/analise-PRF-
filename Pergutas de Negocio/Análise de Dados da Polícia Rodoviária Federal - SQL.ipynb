{
 "cells": [
  {
   "cell_type": "markdown",
   "metadata": {},
   "source": [
    "-------------\n"
   ]
  },
  {
   "cell_type": "markdown",
   "metadata": {},
   "source": [
    "# Perguntas de Negócio"
   ]
  },
  {
   "cell_type": "markdown",
   "metadata": {},
   "source": [
    "## Objetivo Específico:\n",
    "\n",
    "- Demonstrar habilidades avançadas em SQL e análise de dados, utilizando Python para estabelecer conexão com o banco de dados através do pyodbc e realizar consultas complexas utilizando tanto pandasql quanto operações diretas de SQL. O projeto visa evidenciar a capacidade de manipular e analisar grandes conjuntos de dados de forma eficiente, utilizando ferramentas tecnológicas atuais para extrair insights valiosos que suportem decisões baseadas em dados. A utilização do pyodbc permite uma conexão robusta e segura ao banco de dados SQL Server, enquanto o pandasql oferece uma maneira flexível e intuitiva de executar consultas SQL diretamente em DataFrames do pandas, facilitando análises complexas e a integração de processos de análise de dados dentro do ambiente Python."
   ]
  },
  {
   "cell_type": "markdown",
   "metadata": {},
   "source": [
    "### Objetivo do Projeto:\n",
    "- Avaliar as tendências de acidentes em rodovias brasileiras ao longo de três anos, identificando padrões significativos e variáveis impactantes para desenvolver estratégias eficazes de redução de acidentes e melhorar a segurança rodoviária."
   ]
  },
  {
   "cell_type": "markdown",
   "metadata": {},
   "source": [
    "-----------------"
   ]
  },
  {
   "cell_type": "code",
   "execution_count": 6,
   "metadata": {},
   "outputs": [],
   "source": [
    "from sqlalchemy import create_engine\n",
    "import urllib\n",
    "import pyodbc\n",
    "import pandas as pd \n",
    "import pandasql as ps\n",
    "\n",
    "def sql_query(query):\n",
    "    return ps.sqldf(query, globals())"
   ]
  },
  {
   "cell_type": "code",
   "execution_count": 5,
   "metadata": {},
   "outputs": [],
   "source": [
    "df = pd.read_csv(r'C:\\Users\\tiago\\df_prf_oco_01.csv')"
   ]
  },
  {
   "cell_type": "code",
   "execution_count": 7,
   "metadata": {},
   "outputs": [
    {
     "name": "stdout",
     "output_type": "stream",
     "text": [
      "Conectado com sucesso ao SQL Server usando a autenticação do Windows\n"
     ]
    }
   ],
   "source": [
    "\n",
    "\n",
    "# Configurações da conexão\n",
    "server = 'LAPTOP-HHOA8PKM\\SQLEXPRESS'  \n",
    "database = 'ContosoRetailDW'\n",
    "driver = '{ODBC Driver 17 for SQL Server}'  \n",
    "\n",
    "# String de conexão usando autenticação do Windows\n",
    "conn_str = f'DRIVER={driver};SERVER={server};DATABASE={database};Trusted_Connection=yes'\n",
    "\n",
    "# Conectar ao banco de dados\n",
    "conn = pyodbc.connect(conn_str)\n",
    "print(\"Conectado com sucesso ao SQL Server usando a autenticação do Windows\")\n"
   ]
  },
  {
   "cell_type": "code",
   "execution_count": 8,
   "metadata": {},
   "outputs": [],
   "source": [
    "\n",
    "params = urllib.parse.quote_plus(\n",
    "    r\"DRIVER={ODBC Driver 17 for SQL Server};\"\n",
    "    r\"SERVER=LAPTOP-HHOA8PKM\\SQLEXPRESS;\"\n",
    "    r\"DATABASE=ContosoRetailDW;\"\n",
    "    r\"Trusted_Connection=yes;\"\n",
    ")\n",
    "\n",
    "conn_str = f\"mssql+pyodbc:///?odbc_connect={params}\"\n",
    "engine = create_engine(conn_str)"
   ]
  },
  {
   "cell_type": "code",
   "execution_count": 9,
   "metadata": {},
   "outputs": [
    {
     "data": {
      "text/plain": [
       "-287"
      ]
     },
     "execution_count": 9,
     "metadata": {},
     "output_type": "execute_result"
    }
   ],
   "source": [
    "df.to_sql(\n",
    "    name='MediaDeVitimasAcidentes',  # Nome da tabela no SQL Server\n",
    "    con=engine,  # Objeto de conexão SQLAlchemy\n",
    "    if_exists='replace',  # Substituir se a tabela já existir\n",
    "    index=False,  # Não incluir o índice do DataFrame como uma coluna na tabela\n",
    "    chunksize=500  # Inserir dados em lotes para melhorar a eficiência\n",
    ")\n"
   ]
  },
  {
   "cell_type": "markdown",
   "metadata": {},
   "source": [
    "----------------------------------"
   ]
  },
  {
   "cell_type": "markdown",
   "metadata": {},
   "source": [
    "#### Qual é o número total de acidentes por estado em cada ano?"
   ]
  },
  {
   "cell_type": "code",
   "execution_count": 10,
   "metadata": {},
   "outputs": [
    {
     "name": "stdout",
     "output_type": "stream",
     "text": [
      "    uf   ano  total_acidentes\n",
      "0   MG  2023             9000\n",
      "1   MG  2022             8295\n",
      "2   SC  2023             7799\n",
      "3   SC  2022             7593\n",
      "4   PR  2022             7393\n",
      "..  ..   ...              ...\n",
      "76  SE  2024               84\n",
      "77  AC  2024               35\n",
      "78  AP  2024               20\n",
      "79  RR  2024               19\n",
      "80  AM  2024               13\n",
      "\n",
      "[81 rows x 3 columns]\n"
     ]
    }
   ],
   "source": [
    "query1 = \"\"\"\n",
    "SELECT uf, YEAR(data_inversa) AS ano, COUNT(*) AS total_acidentes\n",
    "FROM MediaDeVitimasAcidentes\n",
    "GROUP BY uf, YEAR(data_inversa)\n",
    "order by total_acidentes desc\n",
    "\"\"\"\n",
    "df1 = pd.read_sql_query(query1, engine)\n",
    "print(df1)"
   ]
  },
  {
   "cell_type": "markdown",
   "metadata": {},
   "source": [
    "\n",
    "#### Variação Anual por Estado:\n",
    "\n",
    "- **Minas Gerais (MG)** e **Santa Catarina (SC)** apresentam números altos de acidentes, com MG mostrando um aumento de acidentes de 2022 para 2023. Isso sugere uma possível deterioração nas condições de trânsito ou aumento no volume de tráfego.\n",
    "- Por outro lado, estados com menor número de acidentes, como **Acre (AC)**, **Amapá (AP)**, **Roraima (RR)**, e **Amazonas (AM)** em 2024, podem indicar melhores condições de trânsito ou menor volume de veículos.\n",
    "\n",
    "\n"
   ]
  },
  {
   "cell_type": "markdown",
   "metadata": {},
   "source": [
    "------------\n"
   ]
  },
  {
   "cell_type": "markdown",
   "metadata": {},
   "source": [
    "#### Quantos acidentes resultaram em mortes por ano em cada estado"
   ]
  },
  {
   "cell_type": "code",
   "execution_count": 11,
   "metadata": {},
   "outputs": [
    {
     "name": "stdout",
     "output_type": "stream",
     "text": [
      "    uf  year  acidentes_com_mortes\n",
      "0   MG  2023                   609\n",
      "1   MG  2022                   591\n",
      "2   PR  2022                   495\n",
      "3   PR  2023                   486\n",
      "4   BA  2023                   454\n",
      "..  ..   ...                   ...\n",
      "76  RR  2024                     4\n",
      "77  DF  2024                     3\n",
      "78  AM  2024                     2\n",
      "79  AP  2024                     1\n",
      "80  AC  2024                     1\n",
      "\n",
      "[81 rows x 3 columns]\n"
     ]
    }
   ],
   "source": [
    "query2 = \"\"\"\n",
    "SELECT uf, YEAR(data_inversa) AS year, COUNT(*) AS acidentes_com_mortes\n",
    "FROM MediaDeVitimasAcidentes\n",
    "WHERE mortos > 0\n",
    "GROUP BY uf, YEAR(data_inversa)\n",
    "order by acidentes_com_mortes desc\n",
    "\"\"\"\n",
    "df2 = pd.read_sql_query(query2, engine)\n",
    "print(df2)"
   ]
  },
  {
   "cell_type": "markdown",
   "metadata": {},
   "source": [
    "#### Distribuição de Fatalidades:\n",
    "\n",
    "- Minas Gerais (MG) e Paraná (PR) mostram números elevados de fatalidades em 2022 e 2023, indicando uma persistente gravidade dos acidentes nesses estados. Isso requer atenção especial para medidas de segurança e infraestrutura.\n",
    "- A diminuição marginal nas fatalidades no Paraná de 2022 para 2023 (495 para 486) pode indicar um leve sucesso nas intervenções de segurança realizadas, mas ainda há muito espaço para melhorias.\n",
    "- Estados como Acre (AC), Amapá (AP), e Amazonas (AM) têm números muito baixos de fatalidades em 2024, o que pode refletir melhorias significativas ou simplesmente um volume menor de tráfego."
   ]
  },
  {
   "cell_type": "markdown",
   "metadata": {},
   "source": [
    "--------------------------\n"
   ]
  },
  {
   "cell_type": "markdown",
   "metadata": {},
   "source": [
    "###  Qual é a média de vítimas por acidente em cada tipo de acidente?"
   ]
  },
  {
   "cell_type": "code",
   "execution_count": 18,
   "metadata": {},
   "outputs": [
    {
     "name": "stdout",
     "output_type": "stream",
     "text": [
      "                     tipo_acidente  media_vitimas\n",
      "0          Atropelamento de Animal       1.071577\n",
      "1        Atropelamento de Pedestre       0.947744\n",
      "2                      Capotamento       1.304032\n",
      "3               Colisão com objeto       0.967033\n",
      "4                  Colisão frontal       1.636816\n",
      "5    Colisão lateral mesmo sentido       1.088042\n",
      "6   Colisão lateral sentido oposto       1.244093\n",
      "7              Colisão transversal       1.288628\n",
      "8                 Colisão traseira       1.128140\n",
      "9            Derramamento de carga       0.439560\n",
      "10                   Engavetamento       1.269373\n",
      "11                Eventos atípicos       0.906344\n",
      "12                        Incêndio       0.048692\n",
      "13    Queda de ocupante de veículo       1.162447\n",
      "14       Saída de leito carroçável       1.162953\n",
      "15                      Tombamento       1.126654\n"
     ]
    }
   ],
   "source": [
    "query3 = \"\"\"\n",
    "SELECT tipo_acidente, AVG(feridos) AS media_vitimas\n",
    "FROM df\n",
    "GROUP BY tipo_acidente\n",
    "\"\"\"\n",
    "result3 = sql_query(query3)\n",
    "print(result3)   \n"
   ]
  },
  {
   "cell_type": "markdown",
   "metadata": {},
   "source": [
    "#### Acidentes Mais Graves:\n",
    "\n",
    "- Colisão frontal tem a média mais alta de vítimas por acidente (1.636816), o que é esperado, dado que colisões frontais frequentemente ocorrem em alta velocidade e envolvem impactos diretos.\n",
    "- Capotamento e Colisão transversal também apresentam médias altas de vítimas, sugerindo que esses tipos de acidentes são particularmente perigosos."
   ]
  },
  {
   "cell_type": "markdown",
   "metadata": {},
   "source": [
    "--------------------------------------"
   ]
  },
  {
   "cell_type": "markdown",
   "metadata": {},
   "source": [
    "### Quais são as horas do dia e os dias da semana com maior número de acidentes?"
   ]
  },
  {
   "cell_type": "code",
   "execution_count": 13,
   "metadata": {},
   "outputs": [
    {
     "name": "stdout",
     "output_type": "stream",
     "text": [
      "        dia_semana   horario  total_acidentes\n",
      "0          domingo  19:00:00              401\n",
      "1          domingo  20:00:00              347\n",
      "2          domingo  18:30:00              324\n",
      "3           sábado  19:00:00              314\n",
      "4          domingo  18:00:00              310\n",
      "...            ...       ...              ...\n",
      "7864       domingo  15:03:00                1\n",
      "7865  quarta-feira  15:03:00                1\n",
      "7866  quinta-feira  14:57:00                1\n",
      "7867  quarta-feira  14:59:00                1\n",
      "7868   sexta-feira  14:59:00                1\n",
      "\n",
      "[7869 rows x 3 columns]\n"
     ]
    }
   ],
   "source": [
    "query4 = \"\"\"\n",
    "SELECT dia_semana, horario, COUNT(*) AS total_acidentes\n",
    "FROM MediaDeVitimasAcidentes\n",
    "GROUP BY dia_semana, horario\n",
    "ORDER BY total_acidentes DESC\n",
    "\"\"\"\n",
    "df4 = pd.read_sql_query(query4, engine)\n",
    "print(df4)"
   ]
  },
  {
   "cell_type": "markdown",
   "metadata": {},
   "source": [
    "#### Picos de Acidentes aos Domingos:\n",
    "\n",
    "- O maior número de acidentes ocorre no final da tarde e no início da noite de domingo, especialmente às 19:00, 20:00 e 18:30. Isso pode estar relacionado ao retorno de viagens de fim de semana, quando há um aumento do fluxo nas estradas e possivelmente mais cansaço entre os motoristas.\n",
    "\n",
    "#### Acidentes Significativos aos Sábados à Noite:\n",
    "\n",
    "- Sábados também mostram um pico significativo de acidentes às 19:00. Isso sugere que as atividades de lazer e sociais do fim de semana podem contribuir para o aumento de acidentes durante esse período.\n",
    "\n",
    "#### Distribuição ao Longo da Semana:\n",
    "\n",
    "- Os acidentes parecem ser mais concentrados nos fins de semana, mas há incidências ao longo de toda a semana, embora em menor quantidade. A variação durante os dias úteis pode estar relacionada aos horários de pico de tráfego associados ao deslocamento para o trabalho e escola."
   ]
  },
  {
   "cell_type": "markdown",
   "metadata": {},
   "source": [
    "-----------------------"
   ]
  },
  {
   "cell_type": "markdown",
   "metadata": {},
   "source": [
    "###  Qual rodovia teve o maior número de acidentes nos últimos três anos e qual foi a causa mais comum desses acidentes?"
   ]
  },
  {
   "cell_type": "code",
   "execution_count": 14,
   "metadata": {},
   "outputs": [
    {
     "name": "stdout",
     "output_type": "stream",
     "text": [
      "      br  total_acidentes                          causa_mais_comum\n",
      "0  101.0            24526  Reação tardia ou ineficiente do condutor\n"
     ]
    }
   ],
   "source": [
    "query6 = \"\"\"\n",
    "SELECT TOP 1 br, COUNT(*) AS total_acidentes,\n",
    "       (SELECT TOP 1 causa_acidente FROM MediaDeVitimasAcidentes sub WHERE sub.br = MediaDeVitimasAcidentes.br GROUP BY causa_acidente ORDER BY COUNT(*) DESC) AS causa_mais_comum\n",
    "FROM MediaDeVitimasAcidentes\n",
    "WHERE YEAR(data_inversa) BETWEEN YEAR(GETDATE())-3 AND YEAR(GETDATE())\n",
    "GROUP BY br\n",
    "ORDER BY total_acidentes DESC\n",
    "\"\"\"\n",
    "df6 = pd.read_sql_query(query6, engine)\n",
    "print(df6)"
   ]
  },
  {
   "cell_type": "markdown",
   "metadata": {},
   "source": [
    "#### Alta Incidência na BR-101:\n",
    "\n",
    "- A rodovia BR-101 é uma das principais rodovias do Brasil, atravessando vários estados. Sua alta incidência de acidentes pode estar relacionada ao grande volume de tráfego, incluindo tráfego pesado de caminhões e longas distâncias percorridas pelos motoristas.\n",
    "Causa Comum - Reação Tardia do Condutor:\n",
    "\n",
    "- A causa mais comum de acidentes ser \"Reação tardia ou ineficiente do condutor\" sugere problemas com a percepção, o julgamento ou as ações dos motoristas. Isso pode incluir distração ao dirigir, fadiga, ou falha em ajustar a condução às condições da rodovia"
   ]
  },
  {
   "cell_type": "markdown",
   "metadata": {},
   "source": [
    "----"
   ]
  },
  {
   "cell_type": "markdown",
   "metadata": {},
   "source": [
    "### Qual é a relação entre condições meteorológicas e frequência de acidentes? "
   ]
  },
  {
   "cell_type": "code",
   "execution_count": 15,
   "metadata": {},
   "outputs": [
    {
     "name": "stdout",
     "output_type": "stream",
     "text": [
      "  condicao_meteorologica  total_acidentes\n",
      "0              Céu Claro            88444\n",
      "1                Nublado            22629\n",
      "2                  Chuva            15366\n",
      "3                    Sol             8328\n",
      "4         Garoa/Chuvisco             5244\n",
      "5               Ignorado             1864\n",
      "6       Nevoeiro/Neblina             1187\n",
      "7                  Vento              242\n",
      "8                Granizo                7\n",
      "9                   Neve                3\n"
     ]
    }
   ],
   "source": [
    "query_clima = \"\"\"\n",
    "SELECT condicao_metereologica AS condicao_meteorologica, COUNT(*) AS total_acidentes\n",
    "FROM MediaDeVitimasAcidentes\n",
    "GROUP BY condicao_metereologica\n",
    "ORDER BY total_acidentes DESC\n",
    "\"\"\"\n",
    "df_clima = pd.read_sql_query(query_clima, engine)\n",
    "print(df_clima)"
   ]
  },
  {
   "cell_type": "markdown",
   "metadata": {},
   "source": [
    "#### Predomínio de Acidentes em Céu Claro:\n",
    "\n",
    "- Surpreendentemente, a maioria dos acidentes ocorre sob condições de céu claro (88,444 acidentes). Isso pode sugerir que os motoristas tendem a dirigir mais descuidadamente ou em velocidades mais altas quando as condições de condução são percebidas como ideais.\n",
    "Impacto da Chuva e Nublado:\n",
    "\n",
    "- As condições de chuva (15,366 acidentes) e céu nublado (22,629 acidentes) também estão associadas a um número significativo de acidentes. Isso indica que a visibilidade reduzida e as estradas escorregadias aumentam o risco de acidentes.\n",
    "Condições Extremas Menos Frequentes:\n",
    "\n",
    "- Condições extremas como nevoeiro/neblina, vento, granizo e neve têm números relativamente baixos de acidentes, o que pode ser atribuído à menor frequência dessas condições ou a uma maior cautela dos motoristas nessas condições."
   ]
  },
  {
   "cell_type": "markdown",
   "metadata": {},
   "source": [
    "-------------------------"
   ]
  },
  {
   "cell_type": "markdown",
   "metadata": {},
   "source": [
    "### Quais municípios apresentam os maiores números de acidentes e qual a evolução desses números ao longo dos anos?"
   ]
  },
  {
   "cell_type": "code",
   "execution_count": 16,
   "metadata": {},
   "outputs": [
    {
     "name": "stdout",
     "output_type": "stream",
     "text": [
      "                    municipio   ano  total_acidentes\n",
      "0                    BRASILIA  2023              977\n",
      "1                    BRASILIA  2022              921\n",
      "2                    CURITIBA  2022              900\n",
      "3                   GUARULHOS  2023              830\n",
      "4                   GUARULHOS  2022              759\n",
      "...                       ...   ...              ...\n",
      "5029                SAO BORJA  2024                1\n",
      "5030             SAO BENTINHO  2024                1\n",
      "5031  SANTO ANTONIO DE LISBOA  2024                1\n",
      "5032     SANTANA DA BOA VISTA  2024                1\n",
      "5033       SANTANA DO IPANEMA  2024                1\n",
      "\n",
      "[5034 rows x 3 columns]\n"
     ]
    }
   ],
   "source": [
    "query_municipios = \"\"\"\n",
    "SELECT municipio, YEAR(data_inversa) AS ano, COUNT(*) AS total_acidentes\n",
    "FROM MediaDeVitimasAcidentes\n",
    "GROUP BY municipio, YEAR(data_inversa)\n",
    "ORDER BY total_acidentes DESC\n",
    "\"\"\"\n",
    "df_municipios = pd.read_sql_query(query_municipios, engine)\n",
    "print(df_municipios)"
   ]
  },
  {
   "cell_type": "markdown",
   "metadata": {},
   "source": [
    "#### Altas Taxas de Acidentes em Grandes Centros Urbanos:\n",
    "\n",
    "- Brasília e Guarulhos mostram um grande número de acidentes, com Brasília liderando em 2023 e 2022. A presença constante dessas grandes cidades na lista indica volumes de tráfego elevados e possíveis questões de infraestrutura ou de comportamento dos motoristas.\n",
    "Evolução Anual dos Acidentes:\n",
    "\n",
    "- Brasília mostrou um aumento nos acidentes de 921 em 2022 para 977 em 2023, indicando uma tendência preocupante que requer atenção.\n",
    "Guarulhos também mostrou aumento de acidentes de 2022 para 2023, subindo de 759 para 830.\n",
    "Distribuição Geográfica dos Acidentes:\n",
    "\n",
    "- Cidades menores, como São Borja e Santo Antônio de Lisboa, têm incidências muito baixas de acidentes, o que pode refletir menores volumes de tráfego ou possivelmente melhores condições de condução.\n",
    "Recomendações:"
   ]
  },
  {
   "cell_type": "markdown",
   "metadata": {},
   "source": [
    "-------------------------------------"
   ]
  },
  {
   "cell_type": "markdown",
   "metadata": {},
   "source": [
    "### Há uma tendência de redução ou aumento no número de acidentes ao longo dos anos em determinadas rodovias?"
   ]
  },
  {
   "cell_type": "code",
   "execution_count": 17,
   "metadata": {},
   "outputs": [
    {
     "name": "stdout",
     "output_type": "stream",
     "text": [
      "        br   ano  total_acidentes\n",
      "0      0.0  2022              199\n",
      "1      0.0  2023              159\n",
      "2      0.0  2024               29\n",
      "3     10.0  2022              339\n",
      "4     10.0  2023              462\n",
      "..     ...   ...              ...\n",
      "336  494.0  2023                1\n",
      "337  495.0  2022               19\n",
      "338  495.0  2023               41\n",
      "339  495.0  2024                5\n",
      "340  498.0  2023                1\n",
      "\n",
      "[341 rows x 3 columns]\n"
     ]
    }
   ],
   "source": [
    "query_tendencia_rodovias = \"\"\"\n",
    "SELECT br, YEAR(data_inversa) AS ano, COUNT(*) AS total_acidentes\n",
    "FROM MediaDeVitimasAcidentes\n",
    "GROUP BY br, YEAR(data_inversa)\n",
    "ORDER BY br, ano\n",
    "\"\"\"\n",
    "df_tendencia_rodovias = pd.read_sql_query(query_tendencia_rodovias, engine)\n",
    "print(df_tendencia_rodovias)"
   ]
  },
  {
   "cell_type": "markdown",
   "metadata": {},
   "source": [
    "### Rodovia BR-0:\n",
    "\n",
    "- 2022: 199 acidentes\n",
    "- 2023: 159 acidentes\n",
    "- 2024: 29 acidentes\n",
    "-Observa-se uma tendência clara de redução no número de acidentes nesta rodovia ao longo dos anos, o que pode indicar que intervenções ou melhorias na segurança rodoviária têm sido eficazes.\n",
    "\n",
    "- Rodovia BR-10:\n",
    "\n",
    "- 2022: 339 acidentes\n",
    "- 2023: 462 acidentes\n",
    "- Há um aumento significativo no número de acidentes de 2022 para 2023, sugerindo que podem existir problemas crescentes nesta rodovia que necessitam de atenção imediata para prevenir futuros acidentes.\n",
    "\n",
    "- Rodovia BR-495:\n",
    "\n",
    "- 2022: 19 acidentes\n",
    "- 2023: 41 acidentes\n",
    "2-024: 5 acidentes\n",
    "- Aumento de 2022 para 2023 seguido por uma redução drástica em 2024 pode indicar a implementação de medidas efetivas recentemente ou variações anormais que requerem investigação adicional."
   ]
  },
  {
   "cell_type": "markdown",
   "metadata": {},
   "source": [
    "---------------"
   ]
  },
  {
   "cell_type": "markdown",
   "metadata": {},
   "source": []
  },
  {
   "cell_type": "markdown",
   "metadata": {},
   "source": []
  }
 ],
 "metadata": {
  "kernelspec": {
   "display_name": "base",
   "language": "python",
   "name": "python3"
  },
  "language_info": {
   "codemirror_mode": {
    "name": "ipython",
    "version": 3
   },
   "file_extension": ".py",
   "mimetype": "text/x-python",
   "name": "python",
   "nbconvert_exporter": "python",
   "pygments_lexer": "ipython3",
   "version": "3.11.5"
  }
 },
 "nbformat": 4,
 "nbformat_minor": 2
}
